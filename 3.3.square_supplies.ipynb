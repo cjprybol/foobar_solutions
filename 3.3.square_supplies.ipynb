{
 "cells": [
  {
   "cell_type": "code",
   "execution_count": null,
   "metadata": {
    "collapsed": true
   },
   "outputs": [],
   "source": [
    "Square supplies\n",
    "===============\n",
    "\n",
    "With the zombie cure injections ready to go, it's time to start treating our zombified rabbit friends (known as zombits) at our makeshift zombit treatment center. You need to run out really fast to buy some gauze pads but you only have 30 seconds before you need to be back.\n",
    "\n",
    "Luckily, the corner store has unlimited gauze pads in squares of all sizes. Jackpot! The pricing is simple - a square gauze pad of size K x K costs exactly K * K coins. For example, a gauze pad of size 3x3 costs 9 coins.\n",
    "\n",
    "You're in a hurry and the cashier takes a long time to process each transaction. You decide the fastest way to get what you need is to buy as few gauze pads as possible, while spending all of your coins (you can always cut up the gauze later if you need to). Given that you have n coins, what's the fewest number of gauze pads you can buy?\n",
    "\n",
    "Write a method answer(n), which returns the smallest number of square gauze pads that can be bought with exactly n coins.\n",
    "\n",
    "n will be an integer, satisfying 1 <= n <= 10000.\n",
    "\n",
    "Languages\n",
    "=========\n",
    "\n",
    "To provide a Python solution, edit solution.py\n",
    "To provide a Java solution, edit solution.java\n",
    "\n",
    "Test cases\n",
    "==========\n",
    "\n",
    "Inputs:\n",
    "    (int) n = 24\n",
    "Output:\n",
    "    (int) 3\n",
    "\n",
    "Inputs:\n",
    "    (int) n = 160\n",
    "Output:\n",
    "    (int) 2"
   ]
  },
  {
   "cell_type": "code",
   "execution_count": 27,
   "metadata": {
    "collapsed": false
   },
   "outputs": [
    {
     "name": "stdout",
     "output_type": "stream",
     "text": [
      "2\n"
     ]
    }
   ],
   "source": [
    "import math\n",
    "def answer(n):\n",
    "    guaze_num = 0\n",
    "    leftover = n\n",
    "    while leftover != 0:\n",
    "        biggest =  int(math.sqrt(leftover))\n",
    "        leftover = leftover - (biggest**2)\n",
    "        guaze_num += 1\n",
    "    return guaze_num\n",
    "    \n",
    "    \n",
    "n = 160\n",
    "print answer(n)"
   ]
  }
 ],
 "metadata": {
  "kernelspec": {
   "display_name": "Python 2",
   "language": "python",
   "name": "python2"
  },
  "language_info": {
   "codemirror_mode": {
    "name": "ipython",
    "version": 2
   },
   "file_extension": ".py",
   "mimetype": "text/x-python",
   "name": "python",
   "nbconvert_exporter": "python",
   "pygments_lexer": "ipython2",
   "version": "2.7.10"
  }
 },
 "nbformat": 4,
 "nbformat_minor": 0
}
