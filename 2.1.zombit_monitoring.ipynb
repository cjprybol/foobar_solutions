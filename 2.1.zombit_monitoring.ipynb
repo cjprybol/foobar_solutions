{
 "cells": [
  {
   "cell_type": "markdown",
   "metadata": {},
   "source": [
    "Zombit monitoring\n",
    "=================\n",
    "\n",
    "The first successfully created zombit specimen, Dolly the Zombit, needs constant monitoring, and Professor Boolean has tasked the minions with it. Any minion who monitors the zombit records the start and end times of their shifts. However, those minions, they are a bit disorganized: there may be times when multiple minions are monitoring the zombit, and times when there are none!\n",
    "\n",
    "That's fine, Professor Boolean thinks, one can always hire more minions... Besides, Professor Boolean can at least figure out the total amount of time that Dolly the Zombit was monitored. He has entrusted you, another one of his trusty minions, to do just that. Are you up to the task?\n",
    "\n",
    "Write a function answer(intervals) that takes a list of pairs [start, end] and returns the total amount of time that Dolly the Zombit was monitored by at least one minion. Each [start, end] pair represents the times when a minion started and finished monitoring the zombit. All values will be positive integers no greater than 2^30 - 1. You will always have end > start for each interval.\n",
    "\n",
    "Languages\n",
    "=========\n",
    "\n",
    "To provide a Python solution, edit solution.py\n",
    "To provide a Java solution, edit solution.java\n",
    "\n",
    "Test cases\n",
    "==========\n",
    "\n",
    "Inputs:\n",
    "    (int) intervals = [[1, 3], [3, 6]]\n",
    "Output:\n",
    "    (int) 5\n",
    "\n",
    "Inputs:\n",
    "    (int) intervals = [[10, 14], [4, 18], [19, 20], [19, 20], [13, 20]]\n",
    "Output:\n",
    "    (int) 16\n",
    "\n",
    "Use verify [file] to test your solution and see how it does. When you are finished editing your code, use submit [file] to submit your answer. If your solution passes the test cases, it will be removed from your home folder."
   ]
  },
  {
   "cell_type": "markdown",
   "metadata": {},
   "source": [
    "## This doesn't work, because the `range()` call maxed out the memory\n",
    "\n",
    "I think the server is being run as 32-bit"
   ]
  },
  {
   "cell_type": "code",
   "execution_count": null,
   "metadata": {
    "collapsed": true
   },
   "outputs": [],
   "source": [
    "def answer(intervals):\n",
    "    observed_times = set()\n",
    "    for interval in intervals:\n",
    "        observed_times = observed_times.union(set(range(interval[0],interval[1])))\n",
    "    return len(observed_times)\n",
    "        \n",
    "    \n",
    "intervals = [[10, 14], [4, 18], [19, 20], [19, 20], [13, 20]]\n",
    "answer(intervals)"
   ]
  },
  {
   "cell_type": "markdown",
   "metadata": {},
   "source": [
    "This works"
   ]
  },
  {
   "cell_type": "code",
   "execution_count": 54,
   "metadata": {
    "collapsed": false
   },
   "outputs": [
    {
     "data": {
      "text/plain": [
       "5"
      ]
     },
     "execution_count": 54,
     "metadata": {},
     "output_type": "execute_result"
    }
   ],
   "source": [
    "def answer(intervals):\n",
    "    intervals = sorted(intervals, key = lambda x: int(x[0]))\n",
    "    total_time = 0\n",
    "    greatest_current_stop = 0\n",
    "    for interval in intervals:\n",
    "        start = interval[0]\n",
    "        stop = interval[1]\n",
    "        if greatest_current_stop < stop:\n",
    "            #easy condition\n",
    "            if greatest_current_stop <= start:\n",
    "                total_time += stop - start\n",
    "            else:\n",
    "                total_time += stop - greatest_current_stop\n",
    "            greatest_current_stop = stop\n",
    "    return total_time\n",
    "        \n",
    "    \n",
    "#intervals = [[1, 3], [3, 6]]\n",
    "intervals = [[10, 14], [4, 18], [19, 20], [19, 20], [13, 20]]\n",
    "answer(intervals)"
   ]
  }
 ],
 "metadata": {
  "kernelspec": {
   "display_name": "Python 2",
   "language": "python",
   "name": "python2"
  },
  "language_info": {
   "codemirror_mode": {
    "name": "ipython",
    "version": 2
   },
   "file_extension": ".py",
   "mimetype": "text/x-python",
   "name": "python",
   "nbconvert_exporter": "python",
   "pygments_lexer": "ipython2",
   "version": "2.7.10"
  }
 },
 "nbformat": 4,
 "nbformat_minor": 0
}
